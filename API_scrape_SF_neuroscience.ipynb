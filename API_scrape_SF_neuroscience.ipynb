{
 "cells": [
  {
   "cell_type": "markdown",
   "metadata": {},
   "source": [
    "# SF scrape"
   ]
  },
  {
   "cell_type": "code",
   "execution_count": 1,
   "metadata": {},
   "outputs": [],
   "source": [
    "from sf_scrape import sf_scrape as sf"
   ]
  },
  {
   "cell_type": "markdown",
   "metadata": {},
   "source": [
    "## Neuroscience"
   ]
  },
  {
   "cell_type": "code",
   "execution_count": 2,
   "metadata": {},
   "outputs": [
    {
     "name": "stderr",
     "output_type": "stream",
     "text": [
      "100%|██████████| 9/9 [00:03<00:00,  2.49it/s]\n",
      "100%|██████████| 200/200 [00:59<00:00,  3.65it/s]\n"
     ]
    }
   ],
   "source": [
    "df1 = sf.import_all_data(category = 'Neuroscience')\n",
    "df1['link'] = ''\n",
    "for i in sf.tqdm(range(df1.shape[0])):\n",
    "    df1.loc[i, 'link'] = sf.link_import(fileslug = df1.loc[i,'fileslug'])\n",
    "df1.to_csv('csv/sf_scrape_neuroscience.csv')"
   ]
  },
  {
   "cell_type": "markdown",
   "metadata": {},
   "source": [
    "## Neurology"
   ]
  },
  {
   "cell_type": "code",
   "execution_count": 3,
   "metadata": {},
   "outputs": [
    {
     "name": "stderr",
     "output_type": "stream",
     "text": [
      "100%|██████████| 6/6 [00:01<00:00,  3.07it/s]\n",
      "100%|██████████| 140/140 [00:40<00:00,  3.39it/s]\n"
     ]
    }
   ],
   "source": [
    "df2 = sf.import_all_data(category = 'Neurology')\n",
    "df2['link'] = ''\n",
    "for i in sf.tqdm(range(df2.shape[0])):\n",
    "    df2.loc[i, 'link'] = sf.link_import(fileslug = df2.loc[i,'fileslug'])\n",
    "df2.to_csv('csv/sf_scrape_neurology.csv')"
   ]
  },
  {
   "cell_type": "markdown",
   "metadata": {},
   "source": [
    "## Neurochemistry"
   ]
  },
  {
   "cell_type": "code",
   "execution_count": 4,
   "metadata": {},
   "outputs": [
    {
     "name": "stderr",
     "output_type": "stream",
     "text": [
      "100%|██████████| 3/3 [00:01<00:00,  2.60it/s]\n",
      "100%|██████████| 80/80 [00:22<00:00,  3.70it/s]\n"
     ]
    }
   ],
   "source": [
    "df3 = sf.import_all_data(category = 'Neurochemistry')\n",
    "df3['link'] = ''\n",
    "for i in sf.tqdm(range(df3.shape[0])):\n",
    "    df3.loc[i, 'link'] = sf.link_import(fileslug = df3.loc[i,'fileslug'])\n",
    "df3.to_csv('csv/sf_scrape_neurochemistry.csv')"
   ]
  }
 ],
 "metadata": {
  "kernelspec": {
   "display_name": "health_tags_nlp",
   "language": "python",
   "name": "health_tags_nlp"
  },
  "language_info": {
   "codemirror_mode": {
    "name": "ipython",
    "version": 3
   },
   "file_extension": ".py",
   "mimetype": "text/x-python",
   "name": "python",
   "nbconvert_exporter": "python",
   "pygments_lexer": "ipython3",
   "version": "3.6.3"
  },
  "toc": {
   "nav_menu": {},
   "number_sections": true,
   "sideBar": true,
   "skip_h1_title": false,
   "toc_cell": false,
   "toc_position": {},
   "toc_section_display": "block",
   "toc_window_display": false
  }
 },
 "nbformat": 4,
 "nbformat_minor": 2
}
